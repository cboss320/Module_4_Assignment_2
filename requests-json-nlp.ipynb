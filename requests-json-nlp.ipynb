{
 "cells": [
  {
   "cell_type": "markdown",
   "metadata": {},
   "source": [
    "# Web Mining and Applied NLP (44-620)\n",
    "\n",
    "## Requests, JSON, and NLP\n",
    "\n",
    "### Student Name: Courtney Pigford S560274\n",
    "\n",
    "https://github.com/cboss320/Module_4_Assignment\n",
    "\n",
    "Perform the tasks described in the Markdown cells below.  When you have completed the assignment make sure your code cells have all been run (and have output beneath them) and ensure you have committed and pushed ALL of your changes to your assignment repository.\n",
    "\n",
    "Make sure you have [installed spaCy and its pipeline](https://spacy.io/usage#quickstart) and [spaCyTextBlob](https://spacy.io/universe/project/spacy-textblob)\n",
    "\n",
    "Every question that requires you to write code will have a code cell underneath it; you may either write your entire solution in that cell or write it in a python file (`.py`), then import and run the appropriate code to answer the question.\n",
    "\n",
    "This assignment requires that you write additional files (either JSON or pickle files); make sure to submit those files in your repository as well."
   ]
  },
  {
   "cell_type": "markdown",
   "metadata": {},
   "source": [
    "1. The following code accesses the [lyrics.ovh](https://lyricsovh.docs.apiary.io/#reference/0/lyrics-of-a-song/search) public api, searches for the lyrics of a song, and stores it in a dictionary object.  Write the resulting json to a file (either a JSON file or a pickle file; you choose). You will read in the contents of this file for future questions so we do not need to frequently access the API."
   ]
  },
  {
   "cell_type": "code",
   "execution_count": 36,
   "metadata": {
    "tags": []
   },
   "outputs": [],
   "source": [
    "import json\n",
    "import pickle \n",
    "\n",
    "import requests \n",
    "import spacy \n",
    "from spacytextblob.spacytextblob import SpacyTextBlob\n",
    "\n",
    "result = json.loads(requests.get('https://api.lyrics.ovh/v1/They Might Be Giants/Birdhouse in your soul').text)"
   ]
  },
  {
   "cell_type": "code",
   "execution_count": 62,
   "metadata": {
    "tags": []
   },
   "outputs": [],
   "source": [
    "import json\n",
    "result = {\"artist\": \"they might be giants\", \"title\": \"birdhouse in your soul\", \"lyrics\": \"lyrics of the song\"} \n",
    "with open ('lyrics.json', 'w') as file:\n",
    "    json.dump(result, file)"
   ]
  },
  {
   "cell_type": "markdown",
   "metadata": {},
   "source": [
    "2. Read in the contents of your file.  Print the lyrics of the song (not the entire dictionary!) and use spaCyTextBlob to perform sentiment analysis on the lyrics.  Print the polarity score of the sentiment analysis.  Given that the range of the polarity score is `[-1.0,1.0]` which corresponds to how positive or negative the text in question is, do you think the lyrics have a more positive or negative connotaion?  Answer this question in a comment in your code cell."
   ]
  },
  {
   "cell_type": "code",
   "execution_count": 38,
   "metadata": {},
   "outputs": [
    {
     "name": "stdout",
     "output_type": "stream",
     "text": [
      "Lyrics:\n",
      "lyrics of the song\n",
      "Polarity Score: 0.0\n"
     ]
    }
   ],
   "source": [
    "import json\n",
    "import spacy \n",
    "from spacytextblob.spacytextblob import SpacyTextBlob\n",
    "\n",
    "with open('lyrics.json', 'r') as file: \n",
    "    data = json.load(file)\n",
    "lyrics = data[\"lyrics\"]\n",
    "\n",
    "print(\"Lyrics:\")\n",
    "print(lyrics)\n",
    "\n",
    "nlp = spacy.load(\"en_core_web_sm\")\n",
    "nlp.add_pipe(\"spacytextblob\")\n",
    "doc = nlp(lyrics)\n",
    "polarity_score = doc._.polarity\n",
    "print(\"Polarity Score:\", polarity_score)\n"
   ]
  },
  {
   "cell_type": "markdown",
   "metadata": {},
   "source": [
    "3. Write a function that takes an artist, song, and filename, accesses the lyrics.ovh api to get the song lyrics, and writes the results to the specified filename.  Test this function by getting the lyrics to any four songs of your choice and storing them in different files."
   ]
  },
  {
   "cell_type": "code",
   "execution_count": 39,
   "metadata": {},
   "outputs": [
    {
     "name": "stdout",
     "output_type": "stream",
     "text": [
      "Searching for songs by Birdhouse in your soul...\n",
      "\n",
      "No results found for 'Birdhouse in your soul'.\n"
     ]
    }
   ],
   "source": [
    "import lyricsgenius as lg\n",
    "genuis = lg.Genius(api_key, skip_non_songs=True, excluded_terms=[\"(Remix)\", \"(Live)\"], remove_section_headers=True)\n",
    "artist = genuis.search_artist(\"Birdhouse in your soul\",max_songs=4)"
   ]
  },
  {
   "cell_type": "code",
   "execution_count": 54,
   "metadata": {
    "tags": []
   },
   "outputs": [
    {
     "name": "stdout",
     "output_type": "stream",
     "text": [
      "Searching for \"Happy\" by Ashanti...\n",
      "Done.\n",
      "Ashanti_lyrics_of_Happy_song saved as happy_lyrics.json\n",
      "Searching for \"Foolish\" by Ashanti...\n",
      "Done.\n",
      "Ashanti_lyrics_of_Foolish_song saved as foolish_lyrics.json\n",
      "Searching for \"Baby\" by Ashanti...\n",
      "Done.\n",
      "Ashanti_lyrics_of_Baby_song saved as baby_lyrics.json\n",
      "Searching for \"Rain On Me\" by Ashanti...\n",
      "Done.\n",
      "Ashanti_lyrics_of_Rain on Me_song saved as rain_on_me_lyrics.json\n"
     ]
    }
   ],
   "source": [
    "import lyricsgenius as lg \n",
    "import json\n",
    "\n",
    "def get_genius_access_token():\n",
    "    return os.getenv(\"genius_access_token\")\n",
    "\n",
    "def get_song_lyrics(artist, song, filename):\n",
    "    access_token = get_genius_access_token() \n",
    "    genuis = lg.Genius(api_key, skip_non_songs=True, excluded_terms=[\"(Remix)\", \"(Live)\"], remove_section_headers=True)\n",
    "    try:\n",
    "        song=genius.search_song(song, artist)\n",
    "        if song: \n",
    "            lyrics = song.lyrics\n",
    "            with open(filename, 'w')as file: \n",
    "                json.dump(lyrics, file) \n",
    "            print(f\"{song.artist}_lyrics_of_{song.title}_song saved as {filename}\")\n",
    "        else:\n",
    "            print(f\"failed to get lyrics\")\n",
    "    except Exception as e:\n",
    "        print(f\"no lyrics for {artist}:{str(e)}\")\n",
    "\n",
    "get_song_lyrics(\"Ashanti\", \"Happy\", \"happy_lyrics.json\")\n",
    "get_song_lyrics(\"Ashanti\", \"Foolish\", \"foolish_lyrics.json\")\n",
    "get_song_lyrics(\"Ashanti\", \"Baby\", \"baby_lyrics.json\")\n",
    "get_song_lyrics(\"Ashanti\", \"Rain On Me\", \"rain_on_me_lyrics.json\")"
   ]
  },
  {
   "cell_type": "markdown",
   "metadata": {},
   "source": [
    "4. Write a function that takes the name of a file that contains song lyrics, loads the file, performs sentiment analysis, and returns the polarity score.  Use this function to print the polarity scores (with the name of the song) of the three files you created in question 3.  Does the reported polarity match your understanding of the song's lyrics? Why or why not do you think that might be?  Answer the questions in either a comment in the code cell or a markdown cell under the code cell."
   ]
  },
  {
   "cell_type": "code",
   "execution_count": 61,
   "metadata": {},
   "outputs": [
    {
     "name": "stdout",
     "output_type": "stream",
     "text": [
      "Polarity of happy_lyrics.json: 0.37004517221908534\n",
      "Polarity of foolish_lyrics.json: -0.21999999999999997\n",
      "Polarity of baby_lyrics.json: 0.18857709750566892\n",
      "Polarity of rain_on_me_lyrics.json: 0.01991074768852546\n"
     ]
    }
   ],
   "source": [
    "import json\n",
    "import spacy\n",
    "from spacytextblob.spacytextblob import SpacyTextBlob\n",
    "\n",
    "def analyze_lyrics(filename):\n",
    "    nlp = spacy.load('en_core_web_sm')\n",
    "    nlp.add_pipe('spacytextblob')\n",
    "    with open(filename, 'r') as file:\n",
    "        lyrics = json.load(file)\n",
    "    doc = nlp(lyrics)\n",
    "    polarity = doc._.polarity\n",
    "    \n",
    "    return polarity\n",
    "\n",
    "files = [\"happy_lyrics.json\", \"foolish_lyrics.json\", \"baby_lyrics.json\", \"rain_on_me_lyrics.json\"]\n",
    "for file in files: \n",
    "    polarity = analyze_lyrics(file)\n",
    "    print(f\"Polarity of {file}: {polarity}\")"
   ]
  },
  {
   "cell_type": "markdown",
   "metadata": {},
   "source": [
    "The polarity for Happy, Baby and Rain on Me all are more positive songs so being in the postive makes sense. Foolish, I can see how it has a negavtive polarity since it does talk about the faults of one person. "
   ]
  }
 ],
 "metadata": {
  "kernelspec": {
   "display_name": "Python 3 (ipykernel)",
   "language": "python",
   "name": "python3"
  },
  "language_info": {
   "codemirror_mode": {
    "name": "ipython",
    "version": 3
   },
   "file_extension": ".py",
   "mimetype": "text/x-python",
   "name": "python",
   "nbconvert_exporter": "python",
   "pygments_lexer": "ipython3",
   "version": "3.10.11"
  }
 },
 "nbformat": 4,
 "nbformat_minor": 4
}
